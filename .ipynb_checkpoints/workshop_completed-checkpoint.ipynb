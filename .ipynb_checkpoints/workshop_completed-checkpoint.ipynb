{
 "cells": [
  {
   "cell_type": "markdown",
   "metadata": {},
   "source": [
    "# SheHacks 2020: Pandas Workshop\n",
    "\n",
    "### Introduction\n",
    "\n",
    "Pandas is a popular python library providing high-performance, easy-to-use data structures and data analysis tools.  It is inspired by R's `data.frame` and bears many resemblences to SQL and other tabular data tools.\n",
    "\n",
    "This workshop will serve as a basic introduction to pandas' capabilities.  For more, I encourage you to read the docs, browse blog posts, and read questions and answers on stack overflow.\n",
    "\n",
    "Pandas documentation: https://pandas.pydata.org/pandas-docs/version/1.0.0/index.html\n",
    "\n",
    "A set of useful examples from Chris Albon: https://chrisalbon.com/\n",
    "\n",
    "Stack overlow: https://stackoverflow.com/questions/tagged/pandas\n",
    "\n",
    "\n",
    "### How To Install Pandas\n",
    "\n",
    "Pandas relies on several other python libraries.  The easiest way to install pandas is to download the anaconda release of python.  **Be sure to download python 3.x since python 2.7 is no longer being maintained**.\n",
    "\n",
    "Anaconda: https://www.anaconda.com/distribution/\n",
    "\n",
    "If you already have a python installation with `pip`, you can install pandas with\n",
    "\n",
    "`pip install pandas`\n",
    "\n",
    "\n",
    "### What You Will Learn\n",
    "\n",
    "This will be a very low level workshop intented to get you comfortable working with dataframes.  In particular, I'm going to focus on the basics but will show you some other things pandas is capable of.  I'll do my best to follow the Pareto Rule of 80% simple and useful things, 20% cool things that you can reference should you need them.\n",
    "\n",
    "Here is a rough schedule:\n",
    "\n",
    "* Loading data into python with pandas\n",
    "\n",
    "* Working with data\n",
    "\n",
    "* Summarizing data\n",
    "\n",
    "* Plotting data\n",
    "\n",
    "* Saving data to file with pandas\n",
    "\n",
    "Let's get started!"
   ]
  },
  {
   "cell_type": "code",
   "execution_count": 11,
   "metadata": {},
   "outputs": [],
   "source": [
    "import pandas as pd\n",
    "import numpy as np\n",
    "import matplotlib.pyplot as plt\n",
    "from IPython.display import display\n",
    "\n",
    "%matplotlib inline"
   ]
  },
  {
   "cell_type": "markdown",
   "metadata": {},
   "source": [
    "___\n",
    "### Loading In Data\n",
    "\n",
    "The easiest way to load data into pandas is with the `read_*` function.  Pandas is capable of reading in a lot of different data formats.\n",
    "\n",
    "pandas I/O functions: https://pandas.pydata.org/pandas-docs/version/1.0.0/user_guide/io.html\n",
    "\n",
    "You can also read: SQL, JSON, HTML, and Excel files."
   ]
  },
  {
   "cell_type": "code",
   "execution_count": 10,
   "metadata": {},
   "outputs": [
    {
     "data": {
      "text/html": [
       "<div>\n",
       "<style scoped>\n",
       "    .dataframe tbody tr th:only-of-type {\n",
       "        vertical-align: middle;\n",
       "    }\n",
       "\n",
       "    .dataframe tbody tr th {\n",
       "        vertical-align: top;\n",
       "    }\n",
       "\n",
       "    .dataframe thead th {\n",
       "        text-align: right;\n",
       "    }\n",
       "</style>\n",
       "<table border=\"1\" class=\"dataframe\">\n",
       "  <thead>\n",
       "    <tr style=\"text-align: right;\">\n",
       "      <th></th>\n",
       "      <th>created_at</th>\n",
       "      <th>apparentTemperature</th>\n",
       "      <th>humidity</th>\n",
       "      <th>precipType</th>\n",
       "      <th>wr</th>\n",
       "    </tr>\n",
       "  </thead>\n",
       "  <tbody>\n",
       "    <tr>\n",
       "      <th>0</th>\n",
       "      <td>2018-01-02 06:28:33</td>\n",
       "      <td>-23.27</td>\n",
       "      <td>0.83</td>\n",
       "      <td>NoPrecip</td>\n",
       "      <td>9.0</td>\n",
       "    </tr>\n",
       "    <tr>\n",
       "      <th>1</th>\n",
       "      <td>2018-01-02 06:58:21</td>\n",
       "      <td>-23.27</td>\n",
       "      <td>0.83</td>\n",
       "      <td>NoPrecip</td>\n",
       "      <td>10.0</td>\n",
       "    </tr>\n",
       "    <tr>\n",
       "      <th>2</th>\n",
       "      <td>2018-01-02 07:27:11</td>\n",
       "      <td>-24.22</td>\n",
       "      <td>0.83</td>\n",
       "      <td>NoPrecip</td>\n",
       "      <td>10.0</td>\n",
       "    </tr>\n",
       "    <tr>\n",
       "      <th>3</th>\n",
       "      <td>2018-01-02 07:58:38</td>\n",
       "      <td>-24.22</td>\n",
       "      <td>0.83</td>\n",
       "      <td>NoPrecip</td>\n",
       "      <td>7.0</td>\n",
       "    </tr>\n",
       "    <tr>\n",
       "      <th>4</th>\n",
       "      <td>2018-01-02 08:27:15</td>\n",
       "      <td>-19.47</td>\n",
       "      <td>0.85</td>\n",
       "      <td>NoPrecip</td>\n",
       "      <td>18.0</td>\n",
       "    </tr>\n",
       "  </tbody>\n",
       "</table>\n",
       "</div>"
      ],
      "text/plain": [
       "            created_at  apparentTemperature  humidity precipType    wr\n",
       "0  2018-01-02 06:28:33               -23.27      0.83   NoPrecip   9.0\n",
       "1  2018-01-02 06:58:21               -23.27      0.83   NoPrecip  10.0\n",
       "2  2018-01-02 07:27:11               -24.22      0.83   NoPrecip  10.0\n",
       "3  2018-01-02 07:58:38               -24.22      0.83   NoPrecip   7.0\n",
       "4  2018-01-02 08:27:15               -19.47      0.85   NoPrecip  18.0"
      ]
     },
     "execution_count": 10,
     "metadata": {},
     "output_type": "execute_result"
    }
   ],
   "source": [
    "# dataframes are usually denoted by df, but you should think of a better name\n",
    "df = pd.read_csv('2018_data.csv') #reads in a csv into python.\n",
    "\n",
    "\n",
    "\n",
    "#Now you have data!  Let's see what it looks like\n",
    "\n",
    "df.head() #Shows you the first 5 rows of your data"
   ]
  },
  {
   "cell_type": "markdown",
   "metadata": {},
   "source": [
    "___\n",
    "### Working With Data\n",
    "\n",
    "There may come a time when you just need to work with a single column or a single row.  There are a few ways to go about doing this in pandas.\n",
    "\n",
    "The main tools for this part are the `loc` and `iloc` methods.  They allow you to slice your dataframe much like you would slice an array.\n",
    "\n",
    "`loc` docs: https://pandas.pydata.org/pandas-docs/version/1.0.0/reference/api/pandas.DataFrame.loc.html?highlight=loc#pandas.DataFrame.loc\n",
    "\n",
    "`iloc` docs: https://pandas.pydata.org/pandas-docs/version/1.0.0/reference/api/pandas.DataFrame.iloc.html?highlight=iloc#pandas.DataFrame.iloc\n",
    "\n",
    "#### Getting A Column\n",
    "\n",
    "1) `df['column_name']` -- Extracts the column named `'column_name'` and returns a Pandas Series. \n",
    "\n",
    "2) `df.column_name` -- Does the same as above.  Can only be used when your column name does not have any spaces or special characters.\n",
    "\n",
    "3) `df.loc[:, 'column_name'] -- Equivalent to method 1).\n",
    "\n",
    "4) `df.iloc[;, column_number]` -- Extracts columns based on their indexed location.  If you know that you need the fifth column, then you can use `df.iloc[:, 5]` (since python considers 0 to be the first number).\n",
    "\n",
    "Let's try it together. Let's extract the `wr` column using these four different ways.\n",
    "\n"
   ]
  },
  {
   "cell_type": "code",
   "execution_count": 17,
   "metadata": {},
   "outputs": [],
   "source": [
    "#1)\n",
    "method_1 = df['wr']\n",
    "\n",
    "#2)\n",
    "method_2 = df.wr\n",
    "\n",
    "#3)\n",
    "method_3 = df.loc[:,'wr']\n",
    "\n",
    "#4) \n",
    "method_4 = df.iloc[:,4]\n",
    "\n",
    "#Print each of these out to see what they look like.  Verify they have returned the exact same thing."
   ]
  },
  {
   "cell_type": "markdown",
   "metadata": {},
   "source": [
    "#### Getting Several Columns\n",
    "\n",
    "Almost certainly there will come a time when you need to remove some columns and work with a subset of your data.  Much of the methods above have natural extensions to allow you to select several columns.\n",
    "\n",
    "Let's try it together.  Let's etract the `wr` column and the `creaated_at` column using these four different ways."
   ]
  },
  {
   "cell_type": "code",
   "execution_count": 20,
   "metadata": {},
   "outputs": [],
   "source": [
    "#1)\n",
    "method_1 = df[['wr', 'created_at']]\n",
    "\n",
    "#2) #CAN'T BE DONE THIS WAY!\n",
    "\n",
    "\n",
    "#3)\n",
    "method_3 = df.loc[:,['wr','created_at']]\n",
    "\n",
    "#4) \n",
    "method_4 = df.iloc[:,[0,4]]\n",
    "\n",
    "#Print each of these out to see what they look like.  Verify they have returned the exact same thing.\n",
    "\n"
   ]
  },
  {
   "cell_type": "markdown",
   "metadata": {},
   "source": [
    "### Getting Rows of Data\n",
    "\n",
    "Suppose you want to get a few rows of your data to work with.  You can subset and slice out rows using the following two ways:\n",
    "\n",
    "1) `df.loc['row_name', :]` -- Gets all columns with and rows with the index row_name.  Useful when your dataframe is indexed by a unique identifier.\n",
    "\n",
    "2) `df.iloc[row_numbers, :]` -- Gets all rows based on an integer location.  So for instance. to get the first 5 rows, you could do `df.iloc[:5,:]`.\n",
    "\n",
    "Let's try it together.  Select the first 10 rows, the last 10 rows, and rows 45-56."
   ]
  },
  {
   "cell_type": "code",
   "execution_count": 28,
   "metadata": {},
   "outputs": [],
   "source": [
    "# First 10\n",
    "first_10 = df.iloc[:10,:]\n",
    "\n",
    "# Last 10\n",
    "last_10 = df.iloc[-10:, :]\n",
    "\n",
    "# Rows 45-55\n",
    "middle_10 = df.iloc[45:56, :]\n",
    "\n"
   ]
  },
  {
   "cell_type": "markdown",
   "metadata": {},
   "source": [
    "You can combine the row selection and column selection methods too!  If you wnated the first 10 rows of the `wr` column, you could do...\n",
    "\n",
    "`df.loc[:10, 'wr']`\n"
   ]
  },
  {
   "cell_type": "markdown",
   "metadata": {},
   "source": [
    "---\n",
    "### Summarizing Data\n",
    "\n",
    "Whether you're taking the mean of your data to report to your boss or doing more advanced summaries, pandas offers a multitude of ways to summarize data.  Let's talk about some of them together.\n",
    "\n",
    "Dataframes have a buch of methods you can call to get summaries of your data.  For instance, we can call `df.mean()` to get the mean of every numeric column.  If a column is not numeric, pandas will omit it from the result.  Let's try it below."
   ]
  },
  {
   "cell_type": "code",
   "execution_count": 30,
   "metadata": {},
   "outputs": [
    {
     "data": {
      "text/plain": [
       "apparentTemperature     6.906356\n",
       "humidity                0.739849\n",
       "wr                     70.747821\n",
       "dtype: float64"
      ]
     },
     "execution_count": 30,
     "metadata": {},
     "output_type": "execute_result"
    }
   ],
   "source": [
    "# Get the mean of every column\n",
    "df.mean()"
   ]
  },
  {
   "cell_type": "markdown",
   "metadata": {},
   "source": [
    "There are a ton of methods like this!\n",
    "\n",
    "* `.std()` -- Standard deviation\n",
    "* `.median()` -- Median\n",
    "* `.count()` -- Counts non-missing cells.  Very valuable for finding missing data!\n",
    "* `.quantile()` -- Get quantiles of each numeric column.  You need to pass what quantiles you want to know about.  For example `df.quantile([0.25, 0.5, 0.75])` will get the quartiles of the data.\n",
    "\n",
    "If you apply these methods directly to the dataframe, then pandas will summarize every column.  If you want to summarize only a single column, first extract it using the methods we practiced above and then summarize it.\n",
    "\n",
    "Let's try it below."
   ]
  },
  {
   "cell_type": "code",
   "execution_count": 42,
   "metadata": {},
   "outputs": [],
   "source": [
    "# Get some summaries of the data"
   ]
  },
  {
   "cell_type": "code",
   "execution_count": null,
   "metadata": {},
   "outputs": [],
   "source": []
  }
 ],
 "metadata": {
  "kernelspec": {
   "display_name": "Python 3",
   "language": "python",
   "name": "python3"
  },
  "language_info": {
   "codemirror_mode": {
    "name": "ipython",
    "version": 3
   },
   "file_extension": ".py",
   "mimetype": "text/x-python",
   "name": "python",
   "nbconvert_exporter": "python",
   "pygments_lexer": "ipython3",
   "version": "3.7.4"
  }
 },
 "nbformat": 4,
 "nbformat_minor": 2
}
