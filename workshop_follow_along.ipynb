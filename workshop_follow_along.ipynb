{
 "cells": [
  {
   "cell_type": "markdown",
   "metadata": {},
   "source": [
    "# SheHacks 2020: Pandas Workshop\n",
    "\n",
    "### Introduction\n",
    "\n",
    "Pandas is a popular python library providing high-performance, easy-to-use data structures and data analysis tools.  It is inspired by R's `data.frame` and bears many resemblences to SQL and other tabular data tools.\n",
    "\n",
    "This workshop will serve as a basic introduction to pandas' capabilities.  For more, I encourage you to read the docs, browse blog posts, and read questions and answers on stack overflow.\n",
    "\n",
    "Pandas documentation: https://pandas.pydata.org/pandas-docs/version/1.0.0/index.html\n",
    "\n",
    "A set of useful examples from Chris Albon: https://chrisalbon.com/\n",
    "\n",
    "Stack overlow: https://stackoverflow.com/questions/tagged/pandas\n",
    "\n",
    "\n",
    "### How To Install Pandas\n",
    "\n",
    "Pandas relies on several other python libraries.  The easiest way to install pandas is to download the anaconda release of python.  **Be sure to download python 3.x since python 2.7 is no longer being maintained**.\n",
    "\n",
    "Anaconda: https://www.anaconda.com/distribution/\n",
    "\n",
    "If you already have a python installation with `pip`, you can install pandas with\n",
    "\n",
    "`pip install pandas`\n",
    "\n",
    "\n",
    "### What You Will Learn\n",
    "\n",
    "This will be a very low level workshop intented to get you comfortable working with dataframes.  In particular, I'm going to focus on the basics but will show you some other things pandas is capable of.  I'll do my best to follow the Pareto Rule of 80% simple and useful things, 20% cool things that you can reference should you need them.\n",
    "\n",
    "Here is a rough schedule:\n",
    "\n",
    "* Loading data into python with pandas\n",
    "\n",
    "* Working with data\n",
    "\n",
    "* Summarizing data\n",
    "\n",
    "* Plotting data\n",
    "\n",
    "* Saving data to file with pandas\n",
    "\n",
    "Let's get started!"
   ]
  },
  {
   "cell_type": "code",
   "execution_count": null,
   "metadata": {},
   "outputs": [],
   "source": [
    "import pandas as pd\n",
    "import numpy as np\n",
    "import matplotlib.pyplot as plt\n",
    "from IPython.display import display\n",
    "\n",
    "%matplotlib inline"
   ]
  },
  {
   "cell_type": "markdown",
   "metadata": {},
   "source": [
    "___\n",
    "### Loading In Data\n",
    "\n",
    "The easiest way to load data into pandas is with the `read_csv` function.  Pandas is capable of reading in a lot of different data formats.\n",
    "\n",
    "pandas I/O functions: https://pandas.pydata.org/pandas-docs/version/1.0.0/user_guide/io.html\n",
    "\n",
    "You can also read: SQL, JSON, HTML, and Excel files."
   ]
  },
  {
   "cell_type": "code",
   "execution_count": null,
   "metadata": {},
   "outputs": [],
   "source": [
    "# dataframes are usually denoted by df, but you should think of a better name\n",
    "\n",
    "\n",
    "#Now you have data!  Let's see what it looks like\n",
    "\n"
   ]
  },
  {
   "cell_type": "markdown",
   "metadata": {},
   "source": [
    "___\n",
    "### Working With Data\n",
    "\n",
    "There may come a time when you just need to work with a single column or a single row.  There are a few ways to go about doing this in pandas.\n",
    "\n",
    "The main tools for this part are the `loc` and `iloc` methods.  They allow you to slice your dataframe much like you would slice an array.\n",
    "\n",
    "`loc` docs: https://pandas.pydata.org/pandas-docs/version/1.0.0/reference/api/pandas.DataFrame.loc.html?highlight=loc#pandas.DataFrame.loc\n",
    "\n",
    "`iloc` docs: https://pandas.pydata.org/pandas-docs/version/1.0.0/reference/api/pandas.DataFrame.iloc.html?highlight=iloc#pandas.DataFrame.iloc\n",
    "\n",
    "#### Getting A Column\n",
    "\n",
    "1) `df['column_name']` -- Extracts the column named `'column_name'` and returns a Pandas Series. \n",
    "\n",
    "2) `df.column_name` -- Does the same as above.  Can only be used when your column name does not have any spaces or special characters.\n",
    "\n",
    "3) `df.loc[:, 'column_name'] -- Equivalent to method 1).\n",
    "\n",
    "4) `df.iloc[;, column_number]` -- Extracts columns based on their indexed location.  If you know that you need the fifth column, then you can use `df.iloc[:, 5]` (since python considers 0 to be the first number).\n",
    "\n",
    "Let's try it together. Let's extract the `wr` column using these four different ways.\n",
    "\n"
   ]
  },
  {
   "cell_type": "code",
   "execution_count": null,
   "metadata": {},
   "outputs": [],
   "source": [
    "#1)\n",
    "\n",
    "\n",
    "#2)\n",
    "\n",
    "\n",
    "#3)\n",
    "\n",
    "\n",
    "#4) \n",
    "\n",
    "\n",
    "#Print each of these out to see what they look like.  \n",
    "#Verify they have returned the exact same thing."
   ]
  },
  {
   "cell_type": "markdown",
   "metadata": {},
   "source": [
    "#### Getting Several Columns\n",
    "\n",
    "Almost certainly there will come a time when you need to remove some columns and work with a subset of your data.  Much of the methods above have natural extensions to allow you to select several columns.\n",
    "\n",
    "Let's try it together.  Let's etract the `wr` column and the `creaated_at` column using these four different ways."
   ]
  },
  {
   "cell_type": "code",
   "execution_count": null,
   "metadata": {},
   "outputs": [],
   "source": [
    "#1)\n",
    "\n",
    "\n",
    "#2) #CAN'T BE DONE THIS WAY!\n",
    "\n",
    "\n",
    "#3)\n",
    "\n",
    "\n",
    "#4) \n",
    "\n",
    "\n",
    "#Print each of these out to see what they look like.  Verify they have returned the exact same thing.\n",
    "\n"
   ]
  },
  {
   "cell_type": "markdown",
   "metadata": {},
   "source": [
    "### Getting Rows of Data\n",
    "\n",
    "Suppose you want to get a few rows of your data to work with.  You can subset and slice out rows using the following two ways:\n",
    "\n",
    "1) `df.loc['row_name', :]` -- Gets all columns with and rows with the index row_name.  Useful when your dataframe is indexed by a unique identifier.\n",
    "\n",
    "2) `df.iloc[row_numbers, :]` -- Gets all rows based on an integer location.  So for instance. to get the first 5 rows, you could do `df.iloc[:5,:]`.\n",
    "\n",
    "Let's try it together.  Select the first 10 rows, the last 10 rows, and rows 45-56."
   ]
  },
  {
   "cell_type": "code",
   "execution_count": null,
   "metadata": {},
   "outputs": [],
   "source": [
    "# First 10\n",
    "\n",
    "\n",
    "# Last 10\n",
    "\n",
    "\n",
    "# Rows 45-55\n",
    "\n",
    "\n"
   ]
  },
  {
   "cell_type": "markdown",
   "metadata": {},
   "source": [
    "You can combine the row selection and column selection methods too!  If you wnated the first 10 rows of the `wr` column, you could do...\n",
    "\n",
    "`df.loc[:10, 'wr']`\n",
    "\n",
    "\n",
    "#### Creating New Columns\n",
    "\n",
    "The easiest way to create new columns is by performing the following\n",
    "\n",
    "`df['new_column'] = `"
   ]
  },
  {
   "cell_type": "code",
   "execution_count": null,
   "metadata": {},
   "outputs": [],
   "source": [
    "# Create a new column\n",
    "\n",
    "\n",
    "#Note, the following does not work\n",
    "\n"
   ]
  },
  {
   "cell_type": "markdown",
   "metadata": {},
   "source": [
    "### Filtering By Rows\n",
    "\n",
    "Somtimes you don't need all the data.  You can use pandas to get rid of some rows by using `loc` and `iloc` creatively."
   ]
  },
  {
   "cell_type": "code",
   "execution_count": null,
   "metadata": {},
   "outputs": [],
   "source": [
    "#Only get the observations from January\n",
    "\n",
    "\n",
    "#Only get times after noon\n",
    "\n",
    "\n",
    "#Only get Weekend data\n"
   ]
  },
  {
   "cell_type": "markdown",
   "metadata": {},
   "source": [
    "---\n",
    "### Summarizing Data\n",
    "\n",
    "Whether you're taking the mean of your data to report to your boss or doing more advanced summaries, pandas offers a multitude of ways to summarize data.  Let's talk about some of them together.\n",
    "\n",
    "Dataframes have a buch of methods you can call to get summaries of your data.  For instance, we can call `df.mean()` to get the mean of every numeric column.  If a column is not numeric, pandas will omit it from the result.  Let's try it below."
   ]
  },
  {
   "cell_type": "code",
   "execution_count": null,
   "metadata": {},
   "outputs": [],
   "source": [
    "# Get the mean of every column\n"
   ]
  },
  {
   "cell_type": "markdown",
   "metadata": {},
   "source": [
    "There are a ton of methods like this!\n",
    "\n",
    "* `.std()` -- Standard deviation\n",
    "* `.median()` -- Median\n",
    "* `.count()` -- Counts non-missing cells.  Very valuable for finding missing data!\n",
    "* `.quantile()` -- Get quantiles of each numeric column.  You need to pass what quantiles you want to know about.  For example `df.quantile([0.25, 0.5, 0.75])` will get the quartiles of the data.\n",
    "\n",
    "If you apply these methods directly to the dataframe, then pandas will summarize every column.  If you want to summarize only a single column, first extract it using the methods we practiced above and then summarize it.\n",
    "\n",
    "Let's try it below."
   ]
  },
  {
   "cell_type": "code",
   "execution_count": null,
   "metadata": {},
   "outputs": [],
   "source": [
    "# Get some summaries of the data\n",
    "\n"
   ]
  },
  {
   "cell_type": "markdown",
   "metadata": {},
   "source": [
    "One very handy trick to know is the `df.describe` method.  It performs several popular summaries at once."
   ]
  },
  {
   "cell_type": "code",
   "execution_count": null,
   "metadata": {},
   "outputs": [],
   "source": []
  },
  {
   "cell_type": "markdown",
   "metadata": {},
   "source": [
    "If pandas doesn't implement a summary as a method, but the summary exists as a function, you can still use the summary by calling the function on the dataframe. So, for instance, `df.mean()` returns the same as `np.mean(df)`.\n",
    "\n",
    "You can also take summaries of individual columns by first extracting the column and then calling the summary method.  So, for instance, `df.wr.mean()` takes the mean of the `wr` column."
   ]
  },
  {
   "cell_type": "markdown",
   "metadata": {},
   "source": [
    "### Summarizing By Groups\n",
    "\n",
    "Columns in our data may naturally partition our data into groups.  Pandas offers a natural way to group data and apply summaries using the `groupby` method.\n",
    "\n",
    "In order to use `groupby`, we need a categorical column (groupby by a numeric column is possible, but if you have too many groups your summary will be meaningless).  Let's group by the `month` column and see how the average number of people in the weight room changes over each month.\n",
    "\n",
    "Internally, pandas seperates every row according to the month (e.g. all the January observations, all the February observations) and makes a dataframe out of each. The group by object has a lot of the same methods as a regular dataframe."
   ]
  },
  {
   "cell_type": "code",
   "execution_count": null,
   "metadata": {},
   "outputs": [],
   "source": [
    "# Create a groupby object.  \n"
   ]
  },
  {
   "cell_type": "markdown",
   "metadata": {},
   "source": [
    "You can group by several groups at a time if your data allows for that.  Let's group by month and day of the week to see how the average changes between weekends and weekdays."
   ]
  },
  {
   "cell_type": "code",
   "execution_count": null,
   "metadata": {},
   "outputs": [],
   "source": [
    "# Simply pass the group names as a list to the groupby constructor\n"
   ]
  },
  {
   "cell_type": "markdown",
   "metadata": {},
   "source": [
    "We can even apply multiple summaries using the `agg` method.  Let's compute the mean and standard error for each month and day.  Remember, the standard error is just the standard deviation divided by the square root of the number of observations.\n",
    "\n",
    "The `agg` method let's you specify a new column name for the aggregate, a column on which to operate, and an aggregation function.  Use the `agg` method in the following way:\n",
    "\n",
    "```\n",
    "df.\n",
    "groupby(<column(s) you are grouping by>).\n",
    "agg(new_column_name = (<column to summarize>, <aggregate_function>)\n",
    "```"
   ]
  },
  {
   "cell_type": "code",
   "execution_count": null,
   "metadata": {},
   "outputs": [],
   "source": [
    "from scipy.stats import sem\n",
    "\n",
    "# Here, I am applying a function which pandas does not implement by default\n",
    "# Spacing helps exposition and debugging.\n",
    "# If you want to write you code like this, remember to surround your code in parens ()\n",
    "# Here, I am creating two new columns: wr_mean (mean of the wr column) and wr_sem (standard error of wr)\n"
   ]
  },
  {
   "cell_type": "markdown",
   "metadata": {},
   "source": [
    "There are so many more things you do with pandas!  I could teach an entire course on the library, but I only have an hour.  "
   ]
  },
  {
   "cell_type": "markdown",
   "metadata": {},
   "source": [
    "___\n",
    "### Plotting\n",
    "\n",
    "Summaries are nice, but giving your boss or teammates a table of summaries isn't super effective.  Plotting is a lot easier.  Luckily, pandas makes plotting quite easy!  Pandas has a rich API for plotting, and I can't possibly cover it all.  I would recomend you take a peek at the documentation\n",
    "\n",
    "Pandas plotting documentation: https://pandas.pydata.org/pandas-docs/stable/user_guide/visualization.html\n",
    "\n",
    "Let's see how pandas plots by first summarizing the mean wr value for each hour."
   ]
  },
  {
   "cell_type": "code",
   "execution_count": null,
   "metadata": {},
   "outputs": [],
   "source": []
  },
  {
   "cell_type": "markdown",
   "metadata": {},
   "source": [
    "Notice how the index (bolded items in the margin) are the hours of the day and the column is the mean for each hour.  Pandas treats the index as the x data for plotting and the column name as the y data for plotting.  Let's plot a line graph to see how the weight room changes through the day."
   ]
  },
  {
   "cell_type": "code",
   "execution_count": null,
   "metadata": {},
   "outputs": [],
   "source": [
    "# Make an axis on which to plot\n",
    "\n",
    "fig, ax = plt.subplots(dpi=120)\n",
    "\n"
   ]
  },
  {
   "cell_type": "markdown",
   "metadata": {},
   "source": [
    "You can also specify which columns and which kind of plot you'd like to make."
   ]
  },
  {
   "cell_type": "code",
   "execution_count": null,
   "metadata": {},
   "outputs": [],
   "source": []
  },
  {
   "cell_type": "markdown",
   "metadata": {},
   "source": [
    "If you are already familiar with matplotlib, you can use the matplotlib API with pandas columns very easily!"
   ]
  },
  {
   "cell_type": "code",
   "execution_count": null,
   "metadata": {},
   "outputs": [],
   "source": []
  },
  {
   "cell_type": "markdown",
   "metadata": {},
   "source": [
    "### Play Time! \n",
    "\n",
    "Take some time to investigate the data.  Create some summaries of the data. At the end, we can share what we've learned about the gym!\n",
    "\n",
    "Now you know how to...\n",
    "\n",
    "* Select new columns\n",
    "* Filter rows and group by rows\n",
    "* Make summaries of the data\n",
    "* Plot your summaries.\n",
    "\n",
    "Show me what you've learned!\n",
    "\n",
    "Questions you could try and answer:\n",
    "\n",
    "* What time do you think the gym opens and closes in the summer?  Find which hours are measured in the winter and fall but not measured in the summer.\n",
    "\n",
    "* Plot mean gym activity by month\n",
    "\n",
    "* How many more people on average go to the gym in January than in February?  This might be the effect of new years resolutions.\n",
    "\n",
    "* Between what hours is the gym the busiest?"
   ]
  }
 ],
 "metadata": {
  "kernelspec": {
   "display_name": "Python 3",
   "language": "python",
   "name": "python3"
  },
  "language_info": {
   "codemirror_mode": {
    "name": "ipython",
    "version": 3
   },
   "file_extension": ".py",
   "mimetype": "text/x-python",
   "name": "python",
   "nbconvert_exporter": "python",
   "pygments_lexer": "ipython3",
   "version": "3.7.4"
  }
 },
 "nbformat": 4,
 "nbformat_minor": 2
}
